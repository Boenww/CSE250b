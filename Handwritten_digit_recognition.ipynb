{
 "cells": [
  {
   "cell_type": "markdown",
   "metadata": {},
   "source": [
    "# Handwritten digit recognition using a Gaussian generative model"
   ]
  },
  {
   "cell_type": "markdown",
   "metadata": {},
   "source": [
    " ## Import Libraries & MNIST\n",
    " Split the training set into two pieces - a training set of size 50000, and a separate validation set\n",
    "of size 10000. Also load in the test data."
   ]
  },
  {
   "cell_type": "code",
   "execution_count": 1,
   "metadata": {},
   "outputs": [
    {
     "name": "stdout",
     "output_type": "stream",
     "text": [
      "Reading data...\n",
      "done\n"
     ]
    }
   ],
   "source": [
    "from mnist import MNIST\n",
    "from random import sample, shuffle\n",
    "import numpy as np\n",
    "from scipy.stats import multivariate_normal\n",
    "from collections import defaultdict\n",
    "import matplotlib.pyplot as plt\n",
    "import scipy\n",
    "\n",
    "print \"Reading data...\"\n",
    "mndata = MNIST('./mnist_data_files')\n",
    "images_tv, labels_tv = mndata.load_training()\n",
    "data_tv = zip(images_tv, labels_tv)\n",
    "shuffle(data_tv)\n",
    "data_train = data_tv[:50000]\n",
    "data_validate = data_tv[50000:]\n",
    "images_valid, labels_valid = zip(*data_validate)\n",
    "images_test, labels_test = mndata.load_testing()\n",
    "# images_test_tmp = images_test_tot[:1000]\n",
    "# labels_test_tmp = labels_test_tot[:1000]\n",
    "print \"done\""
   ]
  },
  {
   "cell_type": "markdown",
   "metadata": {},
   "source": [
    "## Fit a Gaussian generative model to the training data of 50000 points\n",
    "### Class Probabilities"
   ]
  },
  {
   "cell_type": "code",
   "execution_count": 2,
   "metadata": {},
   "outputs": [
    {
     "name": "stdout",
     "output_type": "stream",
     "text": [
      "pi0 = 0.09976 ;pi1 = 0.11192 ;pi2 = 0.09904 ;pi3 = 0.10216 ;pi4 = 0.09696 ;pi5 = 0.09084 ;pi6 = 0.0984 ;pi7 = 0.10464 ;pi8 = 0.09812 ;pi9 = 0.09816\n"
     ]
    }
   ],
   "source": [
    "data_train_class = defaultdict(list)\n",
    "for (images, labels) in data_train:\n",
    "    data_train_class[labels].append(images)\n",
    "\n",
    "pi = defaultdict(float)\n",
    "for k in data_train_class.iterkeys():\n",
    "    pi[k] = len(data_train_class[k]) * 1.0 / len(data_train)\n",
    "\n",
    "print(\"pi0 = \" + str(pi[0]) + \" ;pi1 = \" + str(pi[1]) + \" ;pi2 = \" + str(pi[2]) + \" ;pi3 = \" + str(pi[3]) + \" ;pi4 = \" + str(pi[4]) + \" ;pi5 = \" + str(pi[5]) + \" ;pi6 = \" + str(pi[6]) + \" ;pi7 = \" + str(pi[7]) + \" ;pi8 = \" + str(pi[8]) + \" ;pi9 = \" + str(pi[9]))"
   ]
  },
  {
   "cell_type": "markdown",
   "metadata": {},
   "source": [
    "### Mean and Cov"
   ]
  },
  {
   "cell_type": "code",
   "execution_count": 3,
   "metadata": {},
   "outputs": [],
   "source": [
    "mu = defaultdict(np.array)\n",
    "cov = defaultdict(np.array)\n",
    "\n",
    "for k in data_train_class.iterkeys():\n",
    "    mu[k] = sum(np.array(data_train_class[k])) * 1.0 / len(data_train_class[k])\n",
    "    \n",
    "def smoothCov(c):\n",
    "    for k in data_train_class.iterkeys():\n",
    "        cov[k] = np.cov(np.array(data_train_class[k]).transpose()) +  c * np.eye(len(data_train_class[k][0]))\n",
    "    return cov"
   ]
  },
  {
   "cell_type": "markdown",
   "metadata": {},
   "source": [
    "### Fit Gaussian"
   ]
  },
  {
   "cell_type": "code",
   "execution_count": 4,
   "metadata": {},
   "outputs": [],
   "source": [
    "rvs = defaultdict(dict)\n",
    "cRange = [0.001, 0.01, 0.1, 1, 10, 100, 1000, 3000, 5000, 10000]\n",
    "\n",
    "for c in cRange:\n",
    "    rv = defaultdict(scipy.stats._multivariate.multivariate_normal_frozen)\n",
    "    for k in data_train_class.iterkeys():\n",
    "        rv[k] = multivariate_normal(mu[k], smoothCov(c)[k])\n",
    "    rvs[c] = rv"
   ]
  },
  {
   "cell_type": "markdown",
   "metadata": {},
   "source": [
    "## Predict"
   ]
  },
  {
   "cell_type": "code",
   "execution_count": 6,
   "metadata": {},
   "outputs": [],
   "source": [
    "def predict(images, c):\n",
    "    P = defaultdict(float)\n",
    "    preLabels = []\n",
    "    for image in images:\n",
    "        for v in rv.iterkeys():\n",
    "            P[v] = np.log(pi[v]) + rvs[c][v].logpdf(image)\n",
    "        preLabels.append(max(P, key = P.get))      \n",
    "    return np.array(preLabels)"
   ]
  },
  {
   "cell_type": "markdown",
   "metadata": {},
   "source": [
    "## Accuracy on Validate Set"
   ]
  },
  {
   "cell_type": "code",
   "execution_count": 7,
   "metadata": {},
   "outputs": [
    {
     "name": "stdout",
     "output_type": "stream",
     "text": [
      "acc_valid_0.001 = 0.7574\n",
      "acc_valid_0.01 = 0.7813\n",
      "acc_valid_0.1 = 0.8078\n",
      "acc_valid_1 = 0.8362\n",
      "acc_valid_10 = 0.8744\n",
      "acc_valid_100 = 0.9163\n",
      "acc_valid_1000 = 0.9464\n",
      "acc_valid_3000 = 0.9516\n",
      "acc_valid_5000 = 0.9507\n",
      "acc_valid_10000 = 0.9451\n"
     ]
    }
   ],
   "source": [
    "acc_valid = defaultdict(float)\n",
    "for c in cRange:\n",
    "    acc_valid[c] = sum(predict(images_valid, c) == labels_valid) * 1.0 / len(labels_valid)\n",
    "    print(\"acc_valid_\" + str(c) + \" = \" + str(acc_valid[c]))"
   ]
  },
  {
   "cell_type": "markdown",
   "metadata": {},
   "source": [
    "## Error on Test Set"
   ]
  },
  {
   "cell_type": "code",
   "execution_count": 8,
   "metadata": {},
   "outputs": [
    {
     "name": "stdout",
     "output_type": "stream",
     "text": [
      "test_error_1 = 0.042\n"
     ]
    }
   ],
   "source": [
    "acc_test = sum(predict(images_test, 3000) == labels_test) * 1.0 / len(labels_test)\n",
    "print(\"test_error_1 = \" + str(1 - acc_test))"
   ]
  },
  {
   "cell_type": "markdown",
   "metadata": {},
   "source": [
    "## Plot Error_valid v.s. c"
   ]
  },
  {
   "cell_type": "code",
   "execution_count": 9,
   "metadata": {},
   "outputs": [
    {
     "data": {
      "image/png": "[encoded data removed]",
      "text/plain": [
       "<matplotlib.figure.Figure at 0x11d869950>"
      ]
     },
     "metadata": {},
     "output_type": "display_data"
    }
   ],
   "source": [
    "y = []\n",
    "for c in cRange:\n",
    "    y.append(1 - acc_valid[c])\n",
    "plt.plot(cRange, y, 'o--')\n",
    "plt.xlabel(\"c value\")\n",
    "plt.ylabel(\"error rate\")\n",
    "plt.grid(True)\n",
    "plt.annotate('min', xy=(3000, 0.0487), xytext=(5000, 0.1),\n",
    "             arrowprops=dict(facecolor='black', shrink=0.05),\n",
    "             )\n",
    "plt.savefig(\"./Err_valid_c.eps\")\n",
    "plt.show()"
   ]
  },
  {
   "cell_type": "code",
   "execution_count": null,
   "metadata": {},
   "outputs": [],
   "source": []
  }
 ],
 "metadata": {
  "kernelspec": {
   "display_name": "Python 2",
   "language": "python",
   "name": "python2"
  },
  "language_info": {
   "codemirror_mode": {
    "name": "ipython",
    "version": 2
   },
   "file_extension": ".py",
   "mimetype": "text/x-python",
   "name": "python",
   "nbconvert_exporter": "python",
   "pygments_lexer": "ipython2",
   "version": "2.7.13"
  },
  "latex_envs": {
   "LaTeX_envs_menu_present": true,
   "autoclose": false,
   "autocomplete": true,
   "bibliofile": "biblio.bib",
   "cite_by": "apalike",
   "current_citInitial": 1,
   "eqLabelWithNumbers": true,
   "eqNumInitial": 1,
   "hotkeys": {
    "equation": "Ctrl-E",
    "itemize": "Ctrl-I"
   },
   "labels_anchors": false,
   "latex_user_defs": false,
   "report_style_numbering": false,
   "user_envs_cfg": false
  },
  "toc": {
   "base_numbering": 1,
   "nav_menu": {
    "height": "170px",
    "width": "220px"
   },
   "number_sections": true,
   "sideBar": true,
   "skip_h1_title": false,
   "title_cell": "Table of Contents",
   "title_sidebar": "Contents",
   "toc_cell": false,
   "toc_position": {},
   "toc_section_display": true,
   "toc_window_display": true
  }
 },
 "nbformat": 4,
 "nbformat_minor": 2
}
