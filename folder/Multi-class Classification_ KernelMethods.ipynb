{
 "cells": [
  {
   "cell_type": "markdown",
   "metadata": {},
   "source": [
    "# Multi-class Classification & Kernel Methods"
   ]
  },
  {
   "cell_type": "markdown",
   "metadata": {},
   "source": [
    "Import libraries"
   ]
  },
  {
   "cell_type": "code",
   "execution_count": 1,
   "metadata": {},
   "outputs": [],
   "source": [
    "import numpy as np\n",
    "import matplotlib.pyplot as plt\n",
    "from sklearn.linear_model import Perceptron\n",
    "from sklearn.svm import LinearSVC, SVC\n",
    "from mnist import MNIST"
   ]
  },
  {
   "cell_type": "markdown",
   "metadata": {},
   "source": [
    "*Plot function"
   ]
  },
  {
   "cell_type": "code",
   "execution_count": 2,
   "metadata": {},
   "outputs": [],
   "source": [
    "def make_meshgrid(x, y, h=.02):\n",
    "    \"\"\"Create a mesh of points to plot in\n",
    "\n",
    "    Parameters\n",
    "    ----------\n",
    "    x: data to base x-axis meshgrid on\n",
    "    y: data to base y-axis meshgrid on\n",
    "    h: stepsize for meshgrid, optional\n",
    "\n",
    "    Returns\n",
    "    -------\n",
    "    xx, yy : ndarray\n",
    "    \"\"\"\n",
    "    x_min, x_max = x.min() - 1, x.max() + 1\n",
    "    y_min, y_max = y.min() - 1, y.max() + 1\n",
    "    xx, yy = np.meshgrid(np.arange(x_min, x_max, h),\n",
    "                         np.arange(y_min, y_max, h))\n",
    "    return xx, yy"
   ]
  },
  {
   "cell_type": "markdown",
   "metadata": {},
   "source": [
    "## Linear predictor\n",
    "A linear predictor is used to solve a classification problem with three classes. The data is two dimensional and the linear functions for each class are:\n",
    "\\begin{itemize}\n",
    "\\item Class 1: w1 = (1, 1), b1 = 0\n",
    "\\item Class 2: w2 = (1, 0), b2 = 1\n",
    "\\item Class 3: w3 = (0, 1), b3 = −1\n",
    "\\end{itemize}\n",
    "\n",
    "Draw the resulting decision boundary and clearly mark the region corresponding to each class."
   ]
  },
  {
   "cell_type": "code",
   "execution_count": 3,
   "metadata": {},
   "outputs": [
    {
     "data": {
      "image/png": "[encoded data removed]",
      "text/plain": [
       "<matplotlib.figure.Figure at 0x10f0dc910>"
      ]
     },
     "metadata": {},
     "output_type": "display_data"
    }
   ],
   "source": [
    "def pre_percep(w, b, X):\n",
    "    label = []\n",
    "    for x in X:\n",
    "        label.append(np.argmax([w[i].dot(x) + b[i] for i in range(0, len(b))]))\n",
    "    return label\n",
    "\n",
    "w = np.array([[1,1], [1,0], [0,1]])\n",
    "b = np.array([0,1,-1])\n",
    "\n",
    "x_min, x_max = -10, 10\n",
    "y_min, y_max = -10, 10\n",
    "xx, yy = np.meshgrid(np.arange(x_min, x_max, 0.02),\n",
    "                         np.arange(y_min, y_max, 0.02))\n",
    "z = np.array(pre_percep(w, b, np.c_[xx.ravel(), yy.ravel()])).reshape(xx.shape)\n",
    "\n",
    "fig, ax = plt.subplots()\n",
    "\n",
    "cs = plt.contourf(xx, yy, z, cmap=plt.cm.coolwarm)\n",
    "\n",
    "proxy = [plt.Rectangle((0,0),1,1,fc = pc.get_facecolor()[0]) for pc in [cs.collections[0], cs.collections[3], cs.collections[7]]]\n",
    "\n",
    "plt.legend(proxy, [\"Class 1\", \"Class 2\", \"Class 3\"])\n",
    "\n",
    "plt.show()\n",
    "fig.savefig('./graphs/1.png')"
   ]
  },
  {
   "cell_type": "markdown",
   "metadata": {},
   "source": [
    "## Multi-class perceptron"
   ]
  },
  {
   "cell_type": "markdown",
   "metadata": {},
   "source": [
    "### Load data\n",
    "Load in the data set data0.txt. This has 2-d data in four classes (coded as 0,1,2,3). Each row consists of three numbers: the two coordinates of the data points and the label."
   ]
  },
  {
   "cell_type": "code",
   "execution_count": 5,
   "metadata": {},
   "outputs": [],
   "source": [
    "with open('data0.txt') as f0:\n",
    "    content0 = f0.read().splitlines()\n",
    "    data0 = [map(int, line.split()) for line in content0 if line != '']\n",
    "\n",
    "x0 = np.array([[d[0], d[1]] for d in data0])\n",
    "label0 = np.array([d[2] for d in data0])"
   ]
  },
  {
   "cell_type": "markdown",
   "metadata": {},
   "source": [
    "### Learn a classifier"
   ]
  },
  {
   "cell_type": "code",
   "execution_count": 6,
   "metadata": {},
   "outputs": [],
   "source": [
    "w0 = np.array([[0, 0]]*4)\n",
    "b0 = np.array([0]*4)\n",
    "\n",
    "while (pre_percep(w0, b0, x0) == label0).all() == False:\n",
    "    for d in data0:\n",
    "        pre_labelx0 = np.argmax([w0[i].dot([d[0], d[1]]) + b0[i] for i in range(0, 4)])\n",
    "        while d[2] != pre_labelx0:\n",
    "            w0[d[2]] += [d[0], d[1]]\n",
    "            b0[d[2]] += 1\n",
    "            w0[pre_labelx0] -= [d[0], d[1]] \n",
    "            b0[pre_labelx0] -= 1\n",
    "            pre_labelx0 = np.argmax([w0[i].dot([d[0], d[1]]) + b0[i] for i in range(0, 4)])"
   ]
  },
  {
   "cell_type": "markdown",
   "metadata": {},
   "source": [
    "### Plot\n",
    "shows all the data points (with different colors and shapes for different labels) as well as the decision regions."
   ]
  },
  {
   "cell_type": "code",
   "execution_count": 7,
   "metadata": {},
   "outputs": [
    {
     "data": {
      "image/png": "[encoded data removed]",
      "text/plain": [
       "<matplotlib.figure.Figure at 0x119d77210>"
      ]
     },
     "metadata": {},
     "output_type": "display_data"
    }
   ],
   "source": [
    "xx0, yy0 = make_meshgrid(x0[:,0], x0[:,1])\n",
    "z0 = np.array(pre_percep(w0, b0, np.c_[xx0.ravel(), yy0.ravel()])).reshape(xx0.shape)\n",
    "\n",
    "#clf = Perceptron(max_iter=1000).fit(x, label)\n",
    "#Z = clf.predict(np.c_[xx.ravel(), yy.ravel()]).reshape(xx.shape)\n",
    "\n",
    "fig0, ax0 = plt.subplots()\n",
    "\n",
    "ax0.contourf(xx0, yy0, z0, cmap=plt.cm.coolwarm)\n",
    "\n",
    "for d in data0:\n",
    "    if d[2] == 0:\n",
    "        sty = 'o'\n",
    "        ax0.plot(d[0], d[1], marker=sty, c='b')\n",
    "    elif d[2] == 1:\n",
    "        sty = '^'\n",
    "        ax0.plot(d[0], d[1], marker=sty, c='cornflowerblue')\n",
    "    elif d[2] == 2:\n",
    "        sty = 's'\n",
    "        ax0.plot(d[0], d[1], marker=sty, c='blanchedalmond')\n",
    "    else:\n",
    "        sty = '*'\n",
    "        ax0.plot(d[0], d[1], marker=sty, c='r')\n",
    "plt.show()\n",
    "fig0.savefig('./graphs/mp.png')"
   ]
  },
  {
   "cell_type": "markdown",
   "metadata": {},
   "source": [
    "## Kernel Perceptron"
   ]
  },
  {
   "cell_type": "markdown",
   "metadata": {},
   "source": [
    "### Load data\n",
    "\n",
    "The data sets data1.txt and data2.txt contain 2-d data with two classes (coded as −1 and 1).\n",
    "Each row has three numbers: the two coordinates of the data points and the label."
   ]
  },
  {
   "cell_type": "code",
   "execution_count": 8,
   "metadata": {},
   "outputs": [],
   "source": [
    "with open('data1.txt') as f1:\n",
    "    content1 = f1.read().splitlines()\n",
    "    data1 = [map(int, line.split()) for line in content1 if line != '']\n",
    "    \n",
    "x1 = np.array([[d[0], d[1]] for d in data1])\n",
    "label1 = np.array([d[2] for d in data1])\n",
    "\n",
    "with open('data2.txt') as f2:\n",
    "    content2 = f2.read().splitlines()\n",
    "    data2 = [map(int, line.split()) for line in content2 if line != '']\n",
    "    \n",
    "x2 = np.array([[d[0], d[1]] for d in data2])\n",
    "label2 = np.array([d[2] for d in data2])"
   ]
  },
  {
   "cell_type": "markdown",
   "metadata": {},
   "source": [
    "### Quadratic Kernel"
   ]
  },
  {
   "cell_type": "code",
   "execution_count": 10,
   "metadata": {},
   "outputs": [
    {
     "data": {
      "image/png": "[encoded data removed]",
      "text/plain": [
       "<matplotlib.figure.Figure at 0x119f26390>"
      ]
     },
     "metadata": {},
     "output_type": "display_data"
    }
   ],
   "source": [
    "def pre_percep_kernel(alpha, b, oriX, newX, Y):\n",
    "    label = []\n",
    "    for x in newX:\n",
    "        label.append(np.sign(sum(alpha[j]*Y[j]*(1+oriX[j].dot(x))**2 for j in xrange(0, len(oriX))) + b))\n",
    "    return label\n",
    "\n",
    "alpha_1 = np.zeros(len(x1))\n",
    "b1 = 0\n",
    "while (pre_percep_kernel(alpha_1, b1, x1, x1, label1) == label1).all() == False:\n",
    "    for i in xrange(0, len(x1)):\n",
    "        pre_labelx1 = np.sign(label1[i]*(sum(alpha_1[j]*label1[j]*(1+x1[j].dot(x1[i]))**2 for j in xrange(0, len(x1))) + b1))\n",
    "        while pre_labelx1 <= 0:\n",
    "            alpha_1[i] += 1\n",
    "            b1 += label1[i]\n",
    "            pre_labelx1 = np.sign(label1[i]*(sum(alpha_1[j]*label1[j]*(1+x1[j].dot(x1[i]))**2 for j in xrange(0, len(x1))) + b1))\n",
    "        \n",
    "xx1_q, yy1_q = make_meshgrid(x1[:,0], x1[:,1])\n",
    "z1_q = np.array(pre_percep_kernel(alpha_1, b1, x1, np.c_[xx1_q.ravel(), yy1_q.ravel()], label1)).reshape(xx1_q.shape)\n",
    "\n",
    "fig1_q, ax1_q = plt.subplots()\n",
    "\n",
    "ax1_q.contourf(xx1_q, yy1_q, z1_q, cmap=plt.cm.coolwarm)\n",
    "ax1_q.scatter(x1[:, 0], x1[:, 1], c=label1, cmap=plt.cm.coolwarm)\n",
    "plt.show()\n",
    "#fig1.savefig('./graphs/qkp1.png')"
   ]
  },
  {
   "cell_type": "code",
   "execution_count": 11,
   "metadata": {},
   "outputs": [
    {
     "data": {
      "image/png": "[encoded data removed]",
      "text/plain": [
       "<matplotlib.figure.Figure at 0x10f8dd150>"
      ]
     },
     "metadata": {},
     "output_type": "display_data"
    }
   ],
   "source": [
    "alpha_2 = np.zeros(len(x2))\n",
    "b2 = 0\n",
    "\n",
    "while (pre_percep_kernel(alpha_2, b2, x2, x2, label2) == label2).all() == False:\n",
    "    for i in xrange(0, len(x2)):\n",
    "        pre_labelx2 = np.sign(label2[i]*(sum(alpha_2[j]*label2[j]*(1+x2[j].dot(x2[i]))**2 for j in xrange(0, len(x2))) + b2))\n",
    "        while pre_labelx2 <= 0:\n",
    "            alpha_2[i] += 1\n",
    "            b2 += label2[i]\n",
    "            pre_labelx2 = np.sign(label2[i]*(sum(alpha_2[j]*label2[j]*(1+x2[j].dot(x2[i]))**2 for j in xrange(0, len(x2))) + b2))\n",
    "            \n",
    "xx2_q, yy2_q = make_meshgrid(x2[:,0], x2[:,1])\n",
    "z2_q = np.array(pre_percep_kernel(alpha_2, b2, x2, np.c_[xx2_q.ravel(), yy2_q.ravel()], label2)).reshape(xx2_q.shape)\n",
    "\n",
    "fig2_q, ax2_q = plt.subplots()\n",
    "\n",
    "ax2_q.contourf(xx2_q, yy2_q, z2_q, cmap=plt.cm.coolwarm)\n",
    "ax2_q.scatter(x2[:, 0], x2[:, 1], c=label2, cmap=plt.cm.coolwarm)\n",
    "plt.show()\n",
    "#fig2_q.savefig('./graphs/qkp2.png')"
   ]
  },
  {
   "cell_type": "markdown",
   "metadata": {},
   "source": [
    "### RBF Kernel"
   ]
  },
  {
   "cell_type": "code",
   "execution_count": 12,
   "metadata": {},
   "outputs": [
    {
     "data": {
      "image/png": "[encoded data removed]",
      "text/plain": [
       "<matplotlib.figure.Figure at 0x114eea1d0>"
      ]
     },
     "metadata": {},
     "output_type": "display_data"
    }
   ],
   "source": [
    "def pre_percep_kernel_rbf(alpha, b, s, oriX, newX, Y):\n",
    "    label = []\n",
    "    for x in newX:\n",
    "        label.append(np.sign(sum(alpha[j]*Y[j]*np.exp(-(np.linalg.norm(oriX[j] - x)/s)**2) for j in xrange(0, len(oriX))) + b))\n",
    "    return label\n",
    "\n",
    "alpha_3 = np.zeros(len(x1))\n",
    "b3 = 0\n",
    "s1 = 1\n",
    "while (pre_percep_kernel_rbf(alpha_3, b3, s1, x1, x1, label1) == label1).all() == False:\n",
    "    for i in xrange(0, len(x1)):\n",
    "        pre_labelx1 = np.sign(label1[i]*(sum(alpha_3[j]*label1[j]*np.exp(-(np.linalg.norm(x1[j] - x1[i])/s1)**2) for j in xrange(0, len(x1))) + b3))\n",
    "        while pre_labelx1 <= 0:\n",
    "            alpha_3[i] += 1\n",
    "            b3 += label1[i]\n",
    "            pre_labelx1 = np.sign(label1[i]*(sum(alpha_3[j]*label1[j]*np.exp(-(np.linalg.norm(x1[j] - x1[i])/s1)**2) for j in xrange(0, len(x1))) + b3))\n",
    "        \n",
    "xx1_r, yy1_r = make_meshgrid(x1[:,0], x1[:,1])\n",
    "z1_r = np.array(pre_percep_kernel_rbf(alpha_3, b3, 1, x1, np.c_[xx1_r.ravel(), yy1_r.ravel()], label1)).reshape(xx1_r.shape)\n",
    "\n",
    "fig1_r, ax1_r = plt.subplots()\n",
    "\n",
    "ax1_r.contourf(xx1_r, yy1_r, z1_r, cmap=plt.cm.coolwarm)\n",
    "ax1_r.scatter(x1[:, 0], x1[:, 1], c=label1, cmap=plt.cm.coolwarm)\n",
    "plt.show()\n",
    "#fig1_r.savefig('./graphs/qkp1.png')"
   ]
  },
  {
   "cell_type": "markdown",
   "metadata": {},
   "source": [
    "### Encapsulation"
   ]
  },
  {
   "cell_type": "code",
   "execution_count": 13,
   "metadata": {},
   "outputs": [],
   "source": [
    "def rbf(x, z, s):\n",
    "    return np.exp(-(np.linalg.norm(x - z)/s)**2)\n",
    "\n",
    "def poly(x, z, p):\n",
    "    return (1+x.dot(z))**p\n",
    "\n",
    "def pre_pkx(alpha, b, i, X, Y, k, **kwargs): \n",
    "    if k == 'quadratic':\n",
    "        return np.sign(Y[i]*(sum(alpha[j]*Y[j]*poly(X[j], X[i], kwargs['p']) for j in xrange(0, len(X))) + b))\n",
    "    elif k == 'rbf':\n",
    "        return np.sign(Y[i]*(sum(alpha[j]*Y[j]*rbf(X[j], X[i], kwargs['s']) for j in xrange(0, len(X))) + b))\n",
    "\n",
    "def pre_pk(alpha, b, oriX, newX, Y, k, **kwargs):\n",
    "    label = []\n",
    "    if k == 'quadratic':\n",
    "        for x in newX:\n",
    "            label.append(np.sign(sum(alpha[j]*Y[j]*poly(oriX[j], x, kwargs['p']) for j in xrange(0, len(oriX))) + b))\n",
    "    elif k == 'rbf':\n",
    "        for x in newX:\n",
    "            label.append(np.sign(sum(alpha[j]*Y[j]*rbf(oriX[j], x, kwargs['s']) for j in xrange(0, len(oriX))) + b))\n",
    "    return label\n",
    "\n",
    "def kp_learn(alpha, b, X, Y, k = 'quadratic', **kwargs):\n",
    "    while (pre_pk(alpha, b, X, X, Y, k, **kwargs) == Y).all() == False:\n",
    "        for i in xrange(0, len(X)):\n",
    "            pre_labelx = pre_pkx(alpha, b, i, X, Y, k, **kwargs)\n",
    "            while pre_labelx <= 0:\n",
    "                alpha[i] += 1\n",
    "                b += Y[i]\n",
    "                pre_labelx = pre_pkx(alpha, b, i, X, Y, k, **kwargs)\n",
    "    return alpha, b    "
   ]
  },
  {
   "cell_type": "code",
   "execution_count": 14,
   "metadata": {},
   "outputs": [
    {
     "data": {
      "image/png": "[encoded data removed]",
      "text/plain": [
       "<matplotlib.figure.Figure at 0x119e7c990>"
      ]
     },
     "metadata": {},
     "output_type": "display_data"
    }
   ],
   "source": [
    "alpha_1_q = np.zeros(len(x1))\n",
    "b1_q = 0\n",
    "alpha_1_q, b1_q = kp_learn(alpha_1_q, b1_q, x1, label1, p=2)\n",
    "\n",
    "xx1_q, yy1_q = make_meshgrid(x1[:,0], x1[:,1])\n",
    "z1_q = np.array(pre_pk(alpha_1_q, b1_q, x1, np.c_[xx1_q.ravel(), yy1_q.ravel()], label1, k='quadratic', p=2)).reshape(xx1_q.shape)\n",
    "\n",
    "fig1_q, ax1_q = plt.subplots()\n",
    "\n",
    "ax1_q.contourf(xx1_q, yy1_q, z1_q, cmap=plt.cm.coolwarm)\n",
    "\n",
    "for d in data1:\n",
    "    if d[2] == 1:\n",
    "        sty = 'o'\n",
    "        ax1_q.plot(d[0], d[1], marker=sty, c='r')\n",
    "    else:\n",
    "        sty = '^'\n",
    "        ax1_q.plot(d[0], d[1], marker=sty, c='b')\n",
    "\n",
    "plt.show()\n",
    "#fig1_q.savefig('./graphs/qkp1.png')"
   ]
  },
  {
   "cell_type": "code",
   "execution_count": 15,
   "metadata": {},
   "outputs": [
    {
     "data": {
      "image/png": "[encoded data removed]",
      "text/plain": [
       "<matplotlib.figure.Figure at 0x117da2590>"
      ]
     },
     "metadata": {},
     "output_type": "display_data"
    }
   ],
   "source": [
    "alpha_2_q = np.zeros(len(x2))\n",
    "b2_q = 0\n",
    "alpha_2_q, b2_q = kp_learn(alpha_2_q, b2_q, x2, label2, p=2)\n",
    "\n",
    "xx2_q, yy2_q = make_meshgrid(x2[:,0], x2[:,1])\n",
    "z2_q = np.array(pre_pk(alpha_2_q, b2_q, x2, np.c_[xx2_q.ravel(), yy2_q.ravel()], label2, k='quadratic', p=2)).reshape(xx2_q.shape)\n",
    "\n",
    "fig2_q, ax2_q = plt.subplots()\n",
    "\n",
    "ax2_q.contourf(xx2_q, yy2_q, z2_q, cmap=plt.cm.coolwarm)\n",
    "\n",
    "for d in data2:\n",
    "    if d[2] == 1:\n",
    "        sty = 'o'\n",
    "        ax2_q.plot(d[0], d[1], marker=sty, c='r')\n",
    "    else:\n",
    "        sty = '^'\n",
    "        ax2_q.plot(d[0], d[1], marker=sty, c='b')\n",
    "\n",
    "plt.show()\n",
    "#fig2_q.savefig('./graphs/qkp2.png')"
   ]
  },
  {
   "cell_type": "code",
   "execution_count": 16,
   "metadata": {},
   "outputs": [
    {
     "data": {
      "image/png": "[encoded data removed]",
      "text/plain": [
       "<matplotlib.figure.Figure at 0x10f942f10>"
      ]
     },
     "metadata": {},
     "output_type": "display_data"
    }
   ],
   "source": [
    "alpha_1_rbf = np.zeros(len(x1))\n",
    "b1_rbf = 0\n",
    "alpha_1_rbf, b1_rbf = kp_learn(alpha_1_q, b1_q, x1, label1, k = 'rbf', s=10)\n",
    "\n",
    "xx1_r, yy1_r = make_meshgrid(x1[:,0], x1[:,1])\n",
    "z1_r = np.array(pre_pk(alpha_1_rbf, b1_rbf, x1, np.c_[xx1_r.ravel(), yy1_r.ravel()], label1, k='rbf', s=10)).reshape(xx1_r.shape)\n",
    "\n",
    "fig1_r, ax1_r = plt.subplots()\n",
    "\n",
    "ax1_r.contourf(xx1_r, yy1_r, z1_r, cmap=plt.cm.coolwarm)\n",
    "\n",
    "for d in data1:\n",
    "    if d[2] == 1:\n",
    "        sty = 'o'\n",
    "        ax1_r.plot(d[0], d[1], marker=sty, c='r')\n",
    "    else:\n",
    "        sty = '^'\n",
    "        ax1_r.plot(d[0], d[1], marker=sty, c='b')\n",
    "        \n",
    "plt.show()\n",
    "#fig1_r.savefig('./graphs/rkp1_10.png')"
   ]
  },
  {
   "cell_type": "code",
   "execution_count": 218,
   "metadata": {},
   "outputs": [
    {
     "data": {
      "image/png": "[encoded data removed]",
      "text/plain": [
       "<matplotlib.figure.Figure at 0x115258b50>"
      ]
     },
     "metadata": {},
     "output_type": "display_data"
    }
   ],
   "source": [
    "alpha_2_rbf = np.zeros(len(x2))\n",
    "b2_rbf = 0\n",
    "alpha_2_rbf, b2_rbf = kp_learn(alpha_2_q, b2_q, x2, label2, k = 'rbf', s=10)\n",
    "\n",
    "xx2_r, yy2_r = make_meshgrid(x2[:,0], x2[:,1])\n",
    "z2_r = np.array(pre_pk(alpha_2_rbf, b2_rbf, x2, np.c_[xx2_r.ravel(), yy2_r.ravel()], label2, k='rbf', s=10)).reshape(xx2_r.shape)\n",
    "\n",
    "fig2_r, ax2_r = plt.subplots()\n",
    "\n",
    "ax2_r.contourf(xx2_r, yy2_r, z2_r, cmap=plt.cm.coolwarm)\n",
    "\n",
    "for d in data2:\n",
    "    if d[2] == 1:\n",
    "        sty = 'o'\n",
    "        ax2_r.plot(d[0], d[1], marker=sty, c='r')\n",
    "    else:\n",
    "        sty = '^'\n",
    "        ax2_r.plot(d[0], d[1], marker=sty, c='b')\n",
    "        \n",
    "plt.show()\n",
    "#fig2_r.savefig('./graphs/rkp2_10.png')"
   ]
  },
  {
   "cell_type": "markdown",
   "metadata": {},
   "source": [
    "## Kernel SVM\n",
    "\n",
    "use support vector machines to classify the MNIST data set of handwritten digits."
   ]
  },
  {
   "cell_type": "markdown",
   "metadata": {},
   "source": [
    "### Load MNIST"
   ]
  },
  {
   "cell_type": "code",
   "execution_count": 17,
   "metadata": {},
   "outputs": [
    {
     "name": "stdout",
     "output_type": "stream",
     "text": [
      "Reading data...\n",
      "done\n"
     ]
    }
   ],
   "source": [
    "print \"Reading data...\"\n",
    "mndata = MNIST('./mnist_data_files')\n",
    "images_train, labels_train = mndata.load_training()\n",
    "data_train = zip(images_train, labels_train)\n",
    "images_test, labels_test = mndata.load_testing()\n",
    "print \"done\""
   ]
  },
  {
   "cell_type": "markdown",
   "metadata": {},
   "source": [
    "### LinearSVC\n",
    "\n",
    "Learn a linear SVM classifier using sklearn.svm.LinearSVC with loss=’hinge’. Different values of the tradeoff parameter: C = 0.01, 0.1, 1.0, 10.0, 100.0 were tried."
   ]
  },
  {
   "cell_type": "code",
   "execution_count": 18,
   "metadata": {},
   "outputs": [],
   "source": [
    "C = [0.01, 0.1, 1.0, 10.0, 100.0]\n",
    "clf = []\n",
    "pre_labels_train = []\n",
    "pre_labels_test = []\n",
    "err_train = []\n",
    "err_test = []\n",
    "\n",
    "for i in xrange(0, len(C)):\n",
    "    clf.append(LinearSVC(loss='hinge', C = C[i]))\n",
    "    clf[i].fit(images_train, labels_train)\n",
    "    pre_labels_train.append(clf[i].predict(images_train))\n",
    "    pre_labels_test.append(clf[i].predict(images_test))\n",
    "    err_train.append(sum(pre_labels_train[i] != labels_train) * 1.0 / len(labels_train))\n",
    "    err_test.append(sum(pre_labels_test[i] != labels_test) * 1.0 / len(labels_test))"
   ]
  },
  {
   "cell_type": "markdown",
   "metadata": {},
   "source": [
    "The data is considered as not linearly separable."
   ]
  },
  {
   "cell_type": "markdown",
   "metadata": {},
   "source": [
    "### Quadratic Kernel SVM"
   ]
  },
  {
   "cell_type": "code",
   "execution_count": 27,
   "metadata": {},
   "outputs": [],
   "source": [
    "C2 = 1.0\n",
    "clf2 = SVC(kernel='poly', degree=2, C=C2)\n",
    "clf2.fit(images_train, labels_train)\n",
    "numSV = clf2.n_support_\n",
    "pre_labels_train_q = clf2.predict(images_train)\n",
    "pre_labels_test_q = clf2.predict(images_test)\n",
    "\n",
    "err_train_q = sum(pre_labels_train_q != labels_train) * 1.0 / len(labels_train)\n",
    "err_test_q = sum(pre_labels_test_q != labels_test) * 1.0 / len(labels_test)"
   ]
  },
  {
   "cell_type": "code",
   "execution_count": null,
   "metadata": {},
   "outputs": [],
   "source": []
  }
 ],
 "metadata": {
  "kernelspec": {
   "display_name": "Python 2",
   "language": "python",
   "name": "python2"
  },
  "language_info": {
   "codemirror_mode": {
    "name": "ipython",
    "version": 2
   },
   "file_extension": ".py",
   "mimetype": "text/x-python",
   "name": "python",
   "nbconvert_exporter": "python",
   "pygments_lexer": "ipython2",
   "version": "2.7.13"
  },
  "latex_envs": {
   "LaTeX_envs_menu_present": true,
   "autoclose": false,
   "autocomplete": true,
   "bibliofile": "biblio.bib",
   "cite_by": "apalike",
   "current_citInitial": 1,
   "eqLabelWithNumbers": true,
   "eqNumInitial": 1,
   "hotkeys": {
    "equation": "Ctrl-E",
    "itemize": "Ctrl-I"
   },
   "labels_anchors": false,
   "latex_user_defs": false,
   "report_style_numbering": false,
   "user_envs_cfg": false
  },
  "toc": {
   "base_numbering": 1,
   "nav_menu": {},
   "number_sections": true,
   "sideBar": true,
   "skip_h1_title": false,
   "title_cell": "Table of Contents",
   "title_sidebar": "Contents",
   "toc_cell": false,
   "toc_position": {},
   "toc_section_display": true,
   "toc_window_display": true
  }
 },
 "nbformat": 4,
 "nbformat_minor": 2
}
